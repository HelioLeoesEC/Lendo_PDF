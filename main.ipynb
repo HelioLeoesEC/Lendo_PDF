{
 "cells": [
  {
   "cell_type": "code",
   "execution_count": 7,
   "metadata": {},
   "outputs": [],
   "source": [
    "import tabula\n",
    "import PyPDF2\n",
    "import re\n",
    "from docx2python import docx2python"
   ]
  },
  {
   "cell_type": "code",
   "execution_count": 8,
   "metadata": {},
   "outputs": [],
   "source": [
    "texto = docx2python('notificacao.docx')"
   ]
  },
  {
   "cell_type": "code",
   "execution_count": 9,
   "metadata": {},
   "outputs": [
    {
     "data": {
      "text/plain": [
       "[[[[]]],\n",
       " [[['Prefeitura Municipal de Conselheiro Lafaiete - MG']]],\n",
       " [[['Rua Coronel Albino, 160 - Fonte Grande']]],\n",
       " [[['Conselheiro Lafaiete - CEP 36.405-018']]],\n",
       " [[['RECADASTRAMENTO']]],\n",
       " [[['9912522554-']]],\n",
       " [[['DR/MG']]],\n",
       " [[['\\u200b']]],\n",
       " [[['Destinatário:']]],\n",
       " [[['EVA MARIA DE SOUZA']]],\n",
       " [[['JOAO EVANGELISTA, 0301, N/D']]],\n",
       " [[[', CEP ']]],\n",
       " [[['36405130 -']]],\n",
       " [[[' CONSELHEIRO LAFAIETE-MG']]],\n",
       " [[['Secretaria Municipal de Fazenda']]],\n",
       " [[['Secretaria Municipal de Planejamento']]],\n",
       " [[['Prefeitura Municipal de Conselheiro Lafaiete - MG']]],\n",
       " [[['Rua Coronel Albino, 160 - Fonte Grande']]],\n",
       " [[['Conselheiro Lafaiete - CEP 36.405-018']]],\n",
       " [[['RECADASTRAMENTO']]],\n",
       " [[['9912522554-']]],\n",
       " [[['DR/MG']]],\n",
       " [[['\\u200b']]],\n",
       " [[['Destinatário:']]],\n",
       " [[['EVA MARIA DE SOUZA']]],\n",
       " [[['JOAO EVANGELISTA, 0301, N/D']]],\n",
       " [[[', CEP ']]],\n",
       " [[['36405130 -']]],\n",
       " [[[' CONSELHEIRO LAFAIETE-MG']]],\n",
       " [[['Secretaria Municipal de Fazenda']]],\n",
       " [[['Secretaria Municipal de Planejamento']]],\n",
       " [[['----media/image1.png--------media/image0.png----\\u200b\\u200b']]],\n",
       " [[['']]],\n",
       " [[['----media/image1.png----\\u200b'],\n",
       "   ['Prefeitura Municipal de Conselheiro Lafaiete - MG',\n",
       "    'Rua Coronel Albino, 160 - Fonte Grande',\n",
       "    'Conselheiro Lafaiete - MG CEP 36.405-018'],\n",
       "   ['Remetente', 'Secretaria Municipal de Planejamento']]],\n",
       " [[['']], [['Para Uso do Correio']]],\n",
       " [[['___ Mudou-se',\n",
       "    '___ Endereço insuficiente',\n",
       "    '___ Não existe o nº indicado',\n",
       "    '___ Desconhecido'],\n",
       "   ['___ Recusado',\n",
       "    '___ Ausente',\n",
       "    '___ Não Procurado',\n",
       "    '___ Informação Escrita por Terceiro'],\n",
       "   ['Data:',\n",
       "    '_________________________',\n",
       "    'Reintegrado ao Serviço Postal em:',\n",
       "    '_________________________'],\n",
       "   ['Assinatura e Nº do Entregador:']]],\n",
       " [[['']]],\n",
       " [[['C O M U N I C A D O',\n",
       "    'Cadastro                     100790                                                                  Inscrição                100790',\n",
       "    'Endereço                    JOAO EVANGELISTA, 0301',\n",
       "    'Bairro                          SANTA MATILDE',\n",
       "    'Proprietário (a)          EVA MARIA DE SOUZA']]],\n",
       " [[['Foto Frontal'], ['Imagem Aérea']],\n",
       "  [['----media/image2.jpg----'], ['----media/image3.jpg----']]],\n",
       " [[['----media/image1.png----'],\n",
       "   ['Município de Conselheiro Lafaiete\\u200b\\u200b',\n",
       "    'Estado de Minas Gerais',\n",
       "    'CNPJ: 19.718.360/0001-51\\u200b',\n",
       "    'SECRETARIA MUNICIPAL DE FAZENDA',\n",
       "    'SECRETARIA MUNICIPAL DE PLANEJAMENTO']]],\n",
       " [[['    A Prefeitura Municipal de Conselheiro Lafaiete informa que atualizou os dados do cadastro imobiliário municipal, por meio de tecnologia de geoprocessamento, que consiste na captação de imagens aéreas e fotos frontais de todos os imóveis da cidade.     Por meio desta atualização, foi constatada a seguinte situação cadastral do imóvel:']]],\n",
       " [[['Área construída cadastrada'], ['100,09 m2']],\n",
       "  [['Área contruída constatada no levantamento'], ['272,82 m2']]],\n",
       " [[['    Com base na atual área constatada será lançado o IPTU 2021 (Imposto Predial e Territorial Urbano), nos termos da Lei nº 2.239/80. Em caso de discordância, os dados apurados poderão ser contestados no prazo de 20 dias do recebimento desta correspondência. Para tanto, devem ser apresentados os seguintes documentos:',\n",
       "    '1-Requerimento preenchido e assinado pelo contruinte responsável ou por procuração simples;',\n",
       "    '2-Cópia simples do RG e CPF do requerente;',\n",
       "    '3-Cópia deste comunicado;',\n",
       "    '4-Documento de propriedade ou posse do imóvel (Escritura, contrato de compra e venda, recibo etc); 5-Planta aprovada do imóvel assinada pelo profissional responsável ou número do projeto aprovado; 6-Habite-se (se houver).',\n",
       "    '    Os documentos deverão ser enviados pelo e-mail: cadastro@conselheirolafaiete.mg.gov.br e no último caso, protocolados na Prefeitura situada a Rua Coronel Albino, 160, Fonte Grande, CEP 36.405-018, no horário de 12h às 16h.',\n",
       "    '    Esclarecimentos poderão ser obtidos pelos telefones: (31) 3769-2565, (31) 98495-0546 e (31) 98493-5283.',\n",
       "    '    Por oportuno esclarecemos que o lançamento de ofício será considerado apenas para fins fiscais, não ficando dispensado o contribuinte da futura regularização das edificações de acordo com as normas vigentes.',\n",
       "    'Conselheiro Lafaiete - MG, 17 de março de 2021.']]]]"
      ]
     },
     "execution_count": 9,
     "metadata": {},
     "output_type": "execute_result"
    }
   ],
   "source": [
    "texto.body"
   ]
  },
  {
   "cell_type": "code",
   "execution_count": 23,
   "metadata": {},
   "outputs": [
    {
     "data": {
      "text/plain": [
       "{'/Type': '/Page',\n",
       " '/Parent': {'/Type': '/Pages',\n",
       "  '/Kids': [IndirectObject(5, 0), IndirectObject(16, 0)],\n",
       "  '/Count': 2,\n",
       "  '/ProcSet': ['/PDF', '/Text', '/ImageB', '/ImageC']},\n",
       " '/Contents': {'/Filter': '/FlateDecode'},\n",
       " '/Resources': {'/ColorSpace': {'/PCSp': ['/Pattern', '/DeviceRGB'],\n",
       "   '/CSp': '/DeviceRGB',\n",
       "   '/CSpg': '/DeviceGray'},\n",
       "  '/ExtGState': {'/GSa': {'/Type': '/ExtGState',\n",
       "    '/SA': <PyPDF2.generic.BooleanObject at 0x29745c415e0>,\n",
       "    '/SM': 0.02,\n",
       "    '/ca': 1,\n",
       "    '/CA': 1,\n",
       "    '/AIS': <PyPDF2.generic.BooleanObject at 0x29745c41700>,\n",
       "    '/SMask': '/None'}},\n",
       "  '/Pattern': {},\n",
       "  '/Font': {'/F6': {'/Type': '/Font',\n",
       "    '/Subtype': '/Type0',\n",
       "    '/BaseFont': '/SegoeUINegrito',\n",
       "    '/Encoding': '/Identity-H',\n",
       "    '/DescendantFonts': [IndirectObject(34, 0)],\n",
       "    '/ToUnicode': {}},\n",
       "   '/F7': {'/Type': '/Font',\n",
       "    '/Subtype': '/Type0',\n",
       "    '/BaseFont': '/SegoeUINormal',\n",
       "    '/Encoding': '/Identity-H',\n",
       "    '/DescendantFonts': [IndirectObject(29, 0)],\n",
       "    '/ToUnicode': {}}},\n",
       "  '/XObject': {'/Im10': {'/Type': '/XObject',\n",
       "    '/Subtype': '/Image',\n",
       "    '/Width': 400,\n",
       "    '/Height': 399,\n",
       "    '/BitsPerComponent': 8,\n",
       "    '/ColorSpace': '/DeviceRGB',\n",
       "    '/SMask': {'/Type': '/XObject',\n",
       "     '/Subtype': '/Image',\n",
       "     '/Width': 400,\n",
       "     '/Height': 399,\n",
       "     '/BitsPerComponent': 8,\n",
       "     '/ColorSpace': '/DeviceGray',\n",
       "     '/Filter': '/FlateDecode'},\n",
       "    '/Filter': '/DCTDecode'}}},\n",
       " '/Annots': [],\n",
       " '/MediaBox': [0, 0, 595, 842]}"
      ]
     },
     "execution_count": 23,
     "metadata": {},
     "output_type": "execute_result"
    }
   ],
   "source": [
    "page"
   ]
  },
  {
   "cell_type": "code",
   "execution_count": 26,
   "metadata": {},
   "outputs": [
    {
     "ename": "TypeError",
     "evalue": "__init__() got an unexpected keyword argument 'codec'",
     "output_type": "error",
     "traceback": [
      "\u001b[1;31m---------------------------------------------------------------------------\u001b[0m",
      "\u001b[1;31mTypeError\u001b[0m                                 Traceback (most recent call last)",
      "\u001b[1;32m~\\AppData\\Local\\Temp/ipykernel_19180/1362167867.py\u001b[0m in \u001b[0;36m<module>\u001b[1;34m\u001b[0m\n\u001b[0;32m     13\u001b[0m \u001b[0mcodec\u001b[0m \u001b[1;33m=\u001b[0m \u001b[1;34m'utf-8'\u001b[0m\u001b[1;33m\u001b[0m\u001b[1;33m\u001b[0m\u001b[0m\n\u001b[0;32m     14\u001b[0m \u001b[0mlaparams\u001b[0m \u001b[1;33m=\u001b[0m \u001b[0mLAParams\u001b[0m\u001b[1;33m(\u001b[0m\u001b[1;33m)\u001b[0m\u001b[1;33m\u001b[0m\u001b[1;33m\u001b[0m\u001b[0m\n\u001b[1;32m---> 15\u001b[1;33m \u001b[0mdevice\u001b[0m \u001b[1;33m=\u001b[0m \u001b[0mTextConverter\u001b[0m\u001b[1;33m(\u001b[0m\u001b[0mrsrcmgr\u001b[0m\u001b[1;33m,\u001b[0m \u001b[0mretstr\u001b[0m\u001b[1;33m,\u001b[0m \u001b[0mcodec\u001b[0m\u001b[1;33m=\u001b[0m\u001b[0mcodec\u001b[0m\u001b[1;33m,\u001b[0m \u001b[0mlaparams\u001b[0m\u001b[1;33m=\u001b[0m\u001b[0mlaparams\u001b[0m\u001b[1;33m)\u001b[0m\u001b[1;33m\u001b[0m\u001b[1;33m\u001b[0m\u001b[0m\n\u001b[0m\u001b[0;32m     16\u001b[0m \u001b[0minterpreter\u001b[0m \u001b[1;33m=\u001b[0m \u001b[0mPDFPageInterpreter\u001b[0m\u001b[1;33m(\u001b[0m\u001b[0mrsrcmgr\u001b[0m\u001b[1;33m,\u001b[0m \u001b[0mdevice\u001b[0m\u001b[1;33m)\u001b[0m\u001b[1;33m\u001b[0m\u001b[1;33m\u001b[0m\u001b[0m\n\u001b[0;32m     17\u001b[0m \u001b[0mpages\u001b[0m \u001b[1;33m=\u001b[0m \u001b[0mPDFPage\u001b[0m\u001b[1;33m.\u001b[0m\u001b[0mget_pages\u001b[0m\u001b[1;33m(\u001b[0m\u001b[0mfp\u001b[0m\u001b[1;33m)\u001b[0m\u001b[1;33m\u001b[0m\u001b[1;33m\u001b[0m\u001b[0m\n",
      "\u001b[1;31mTypeError\u001b[0m: __init__() got an unexpected keyword argument 'codec'"
     ]
    }
   ],
   "source": [
    "import sys\n",
    "from pdfminer.pdfinterp import PDFResourceManager, PDFPageInterpreter\n",
    "from pdfminer.pdfpage import PDFPage\n",
    "from pdfminer.converter import XMLConverter, HTMLConverter, TextConverter\n",
    "from pdfminer.layout import LAParams\n",
    "import io\n",
    "import glob\n",
    "from datetime import datetime\n",
    "\n",
    "fp = open(\"texto.pdf\", 'rb')\n",
    "rsrcmgr = PDFResourceManager()\n",
    "retstr = io.StringIO()\n",
    "codec = 'utf-8'\n",
    "laparams = LAParams()\n",
    "device = TextConverter(rsrcmgr, retstr, codec=codec, laparams=laparams)\n",
    "interpreter = PDFPageInterpreter(rsrcmgr, device)\n",
    "pages = PDFPage.get_pages(fp)\n",
    "for page in pages:\n",
    "    interpreter.process_page(page)\n",
    "    data =  retstr.getvalue()\n",
    "    print(data)"
   ]
  },
  {
   "cell_type": "code",
   "execution_count": 4,
   "metadata": {},
   "outputs": [],
   "source": [
    "from pdfminer.pdfinterp import PDFResourceManager\n",
    "from pdfminer.converter import TextConverter\n",
    "from pdfminer.layout import LAParams\n",
    "from io import StringIO\n",
    "from urllib.request import urlopen\n",
    "import pdfminer"
   ]
  },
  {
   "cell_type": "code",
   "execution_count": 5,
   "metadata": {},
   "outputs": [],
   "source": [
    "def lerPDF(arquivoPDF):\n",
    "    # PDFResourceManager Usado para armazenar recursos compartilhados\n",
    "    # como fontes e imagens\n",
    "    recursos = PDFResourceManager()\n",
    "    buffer = StringIO()\n",
    "    layoutParams = LAParams()\n",
    "    dispositivo = TextConverter(recursos, buffer, laparams=layoutParams)\n",
    "    pdfminer.pdfinterp.process_pdf(recursos, dispositivo, arquivoPDF)\n",
    "    dispositivo.close()\n",
    "    conteudo = buffer.getvalue()\n",
    "    buffer.close()\n",
    "    return conteudo"
   ]
  },
  {
   "cell_type": "code",
   "execution_count": 6,
   "metadata": {},
   "outputs": [],
   "source": [
    "arquivo = open('texto.pdf')"
   ]
  },
  {
   "cell_type": "code",
   "execution_count": 7,
   "metadata": {},
   "outputs": [
    {
     "ename": "AttributeError",
     "evalue": "module 'pdfminer.pdfinterp' has no attribute 'process_pdf'",
     "output_type": "error",
     "traceback": [
      "\u001b[1;31m---------------------------------------------------------------------------\u001b[0m",
      "\u001b[1;31mAttributeError\u001b[0m                            Traceback (most recent call last)",
      "\u001b[1;32m~\\AppData\\Local\\Temp/ipykernel_17980/220234516.py\u001b[0m in \u001b[0;36m<module>\u001b[1;34m\u001b[0m\n\u001b[1;32m----> 1\u001b[1;33m \u001b[0msaida\u001b[0m \u001b[1;33m=\u001b[0m \u001b[0mlerPDF\u001b[0m\u001b[1;33m(\u001b[0m\u001b[0marquivo\u001b[0m\u001b[1;33m)\u001b[0m\u001b[1;33m\u001b[0m\u001b[1;33m\u001b[0m\u001b[0m\n\u001b[0m",
      "\u001b[1;32m~\\AppData\\Local\\Temp/ipykernel_17980/3324924516.py\u001b[0m in \u001b[0;36mlerPDF\u001b[1;34m(arquivoPDF)\u001b[0m\n\u001b[0;32m      6\u001b[0m     \u001b[0mlayoutParams\u001b[0m \u001b[1;33m=\u001b[0m \u001b[0mLAParams\u001b[0m\u001b[1;33m(\u001b[0m\u001b[1;33m)\u001b[0m\u001b[1;33m\u001b[0m\u001b[1;33m\u001b[0m\u001b[0m\n\u001b[0;32m      7\u001b[0m     \u001b[0mdispositivo\u001b[0m \u001b[1;33m=\u001b[0m \u001b[0mTextConverter\u001b[0m\u001b[1;33m(\u001b[0m\u001b[0mrecursos\u001b[0m\u001b[1;33m,\u001b[0m \u001b[0mbuffer\u001b[0m\u001b[1;33m,\u001b[0m \u001b[0mlaparams\u001b[0m\u001b[1;33m=\u001b[0m\u001b[0mlayoutParams\u001b[0m\u001b[1;33m)\u001b[0m\u001b[1;33m\u001b[0m\u001b[1;33m\u001b[0m\u001b[0m\n\u001b[1;32m----> 8\u001b[1;33m     \u001b[0mpdfminer\u001b[0m\u001b[1;33m.\u001b[0m\u001b[0mpdfinterp\u001b[0m\u001b[1;33m.\u001b[0m\u001b[0mprocess_pdf\u001b[0m\u001b[1;33m(\u001b[0m\u001b[0mrecursos\u001b[0m\u001b[1;33m,\u001b[0m \u001b[0mdispositivo\u001b[0m\u001b[1;33m,\u001b[0m \u001b[0marquivoPDF\u001b[0m\u001b[1;33m)\u001b[0m\u001b[1;33m\u001b[0m\u001b[1;33m\u001b[0m\u001b[0m\n\u001b[0m\u001b[0;32m      9\u001b[0m     \u001b[0mdispositivo\u001b[0m\u001b[1;33m.\u001b[0m\u001b[0mclose\u001b[0m\u001b[1;33m(\u001b[0m\u001b[1;33m)\u001b[0m\u001b[1;33m\u001b[0m\u001b[1;33m\u001b[0m\u001b[0m\n\u001b[0;32m     10\u001b[0m     \u001b[0mconteudo\u001b[0m \u001b[1;33m=\u001b[0m \u001b[0mbuffer\u001b[0m\u001b[1;33m.\u001b[0m\u001b[0mgetvalue\u001b[0m\u001b[1;33m(\u001b[0m\u001b[1;33m)\u001b[0m\u001b[1;33m\u001b[0m\u001b[1;33m\u001b[0m\u001b[0m\n",
      "\u001b[1;31mAttributeError\u001b[0m: module 'pdfminer.pdfinterp' has no attribute 'process_pdf'"
     ]
    }
   ],
   "source": [
    "saida = lerPDF(arquivo)"
   ]
  },
  {
   "cell_type": "code",
   "execution_count": 10,
   "metadata": {},
   "outputs": [
    {
     "ename": "AttributeError",
     "evalue": "'Page' object has no attribute 'getTex'",
     "output_type": "error",
     "traceback": [
      "\u001b[1;31m---------------------------------------------------------------------------\u001b[0m",
      "\u001b[1;31mAttributeError\u001b[0m                            Traceback (most recent call last)",
      "\u001b[1;32m~\\AppData\\Local\\Temp/ipykernel_17980/1906640226.py\u001b[0m in \u001b[0;36m<module>\u001b[1;34m\u001b[0m\n\u001b[0;32m      7\u001b[0m \u001b[1;33m\u001b[0m\u001b[0m\n\u001b[0;32m      8\u001b[0m     \u001b[1;32mfor\u001b[0m \u001b[0mpagina\u001b[0m \u001b[1;32min\u001b[0m \u001b[0mpdf\u001b[0m\u001b[1;33m:\u001b[0m\u001b[1;33m\u001b[0m\u001b[1;33m\u001b[0m\u001b[0m\n\u001b[1;32m----> 9\u001b[1;33m         \u001b[0mconteudo\u001b[0m \u001b[1;33m+=\u001b[0m \u001b[0mpagina\u001b[0m\u001b[1;33m.\u001b[0m\u001b[0mgetTex\u001b[0m\u001b[1;33m\u001b[0m\u001b[1;33m\u001b[0m\u001b[0m\n\u001b[0m",
      "\u001b[1;31mAttributeError\u001b[0m: 'Page' object has no attribute 'getTex'"
     ]
    }
   ],
   "source": [
    "import fitz\n",
    "\n",
    "\n",
    "conteudo = \"\"\n",
    "\n",
    "with fitz.open(\"texto.pdf\") as pdf:\n",
    "\n",
    "    for pagina in pdf:\n",
    "        conteudo += pagina.getTex"
   ]
  },
  {
   "cell_type": "code",
   "execution_count": null,
   "metadata": {},
   "outputs": [],
   "source": []
  }
 ],
 "metadata": {
  "interpreter": {
   "hash": "2647ea34e536f865ab67ff9ddee7fd78773d956cec0cab53c79b32cd10da5d83"
  },
  "kernelspec": {
   "display_name": "Python 3.9.6 64-bit",
   "language": "python",
   "name": "python3"
  },
  "language_info": {
   "codemirror_mode": {
    "name": "ipython",
    "version": 3
   },
   "file_extension": ".py",
   "mimetype": "text/x-python",
   "name": "python",
   "nbconvert_exporter": "python",
   "pygments_lexer": "ipython3",
   "version": "3.9.6"
  },
  "orig_nbformat": 4
 },
 "nbformat": 4,
 "nbformat_minor": 2
}
