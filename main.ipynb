{
 "cells": [
  {
   "cell_type": "code",
   "execution_count": 7,
   "metadata": {},
   "outputs": [],
   "source": [
    "\n",
    "from docx2python import docx2python"
   ]
  },
  {
   "cell_type": "code",
   "execution_count": 8,
   "metadata": {},
   "outputs": [],
   "source": [
    "texto = docx2python('notificacao.docx')\n",
    "texto.body"
   ]
  },
  {
   "cell_type": "code",
   "execution_count": 9,
   "metadata": {},
   "outputs": [
    {
     "data": {
      "text/plain": [
       "[[[[]]],\n",
       " [[['Prefeitura Municipal de Conselheiro Lafaiete - MG']]],\n",
       " [[['Rua Coronel Albino, 160 - Fonte Grande']]],\n",
       " [[['Conselheiro Lafaiete - CEP 36.405-018']]],\n",
       " [[['RECADASTRAMENTO']]],\n",
       " [[['9912522554-']]],\n",
       " [[['DR/MG']]],\n",
       " [[['\\u200b']]],\n",
       " [[['Destinatário:']]],\n",
       " [[['EVA MARIA DE SOUZA']]],\n",
       " [[['JOAO EVANGELISTA, 0301, N/D']]],\n",
       " [[[', CEP ']]],\n",
       " [[['36405130 -']]],\n",
       " [[[' CONSELHEIRO LAFAIETE-MG']]],\n",
       " [[['Secretaria Municipal de Fazenda']]],\n",
       " [[['Secretaria Municipal de Planejamento']]],\n",
       " [[['Prefeitura Municipal de Conselheiro Lafaiete - MG']]],\n",
       " [[['Rua Coronel Albino, 160 - Fonte Grande']]],\n",
       " [[['Conselheiro Lafaiete - CEP 36.405-018']]],\n",
       " [[['RECADASTRAMENTO']]],\n",
       " [[['9912522554-']]],\n",
       " [[['DR/MG']]],\n",
       " [[['\\u200b']]],\n",
       " [[['Destinatário:']]],\n",
       " [[['EVA MARIA DE SOUZA']]],\n",
       " [[['JOAO EVANGELISTA, 0301, N/D']]],\n",
       " [[[', CEP ']]],\n",
       " [[['36405130 -']]],\n",
       " [[[' CONSELHEIRO LAFAIETE-MG']]],\n",
       " [[['Secretaria Municipal de Fazenda']]],\n",
       " [[['Secretaria Municipal de Planejamento']]],\n",
       " [[['----media/image1.png--------media/image0.png----\\u200b\\u200b']]],\n",
       " [[['']]],\n",
       " [[['----media/image1.png----\\u200b'],\n",
       "   ['Prefeitura Municipal de Conselheiro Lafaiete - MG',\n",
       "    'Rua Coronel Albino, 160 - Fonte Grande',\n",
       "    'Conselheiro Lafaiete - MG CEP 36.405-018'],\n",
       "   ['Remetente', 'Secretaria Municipal de Planejamento']]],\n",
       " [[['']], [['Para Uso do Correio']]],\n",
       " [[['___ Mudou-se',\n",
       "    '___ Endereço insuficiente',\n",
       "    '___ Não existe o nº indicado',\n",
       "    '___ Desconhecido'],\n",
       "   ['___ Recusado',\n",
       "    '___ Ausente',\n",
       "    '___ Não Procurado',\n",
       "    '___ Informação Escrita por Terceiro'],\n",
       "   ['Data:',\n",
       "    '_________________________',\n",
       "    'Reintegrado ao Serviço Postal em:',\n",
       "    '_________________________'],\n",
       "   ['Assinatura e Nº do Entregador:']]],\n",
       " [[['']]],\n",
       " [[['C O M U N I C A D O',\n",
       "    'Cadastro                     100790                                                                  Inscrição                100790',\n",
       "    'Endereço                    JOAO EVANGELISTA, 0301',\n",
       "    'Bairro                          SANTA MATILDE',\n",
       "    'Proprietário (a)          EVA MARIA DE SOUZA']]],\n",
       " [[['Foto Frontal'], ['Imagem Aérea']],\n",
       "  [['----media/image2.jpg----'], ['----media/image3.jpg----']]],\n",
       " [[['----media/image1.png----'],\n",
       "   ['Município de Conselheiro Lafaiete\\u200b\\u200b',\n",
       "    'Estado de Minas Gerais',\n",
       "    'CNPJ: 19.718.360/0001-51\\u200b',\n",
       "    'SECRETARIA MUNICIPAL DE FAZENDA',\n",
       "    'SECRETARIA MUNICIPAL DE PLANEJAMENTO']]],\n",
       " [[['    A Prefeitura Municipal de Conselheiro Lafaiete informa que atualizou os dados do cadastro imobiliário municipal, por meio de tecnologia de geoprocessamento, que consiste na captação de imagens aéreas e fotos frontais de todos os imóveis da cidade.     Por meio desta atualização, foi constatada a seguinte situação cadastral do imóvel:']]],\n",
       " [[['Área construída cadastrada'], ['100,09 m2']],\n",
       "  [['Área contruída constatada no levantamento'], ['272,82 m2']]],\n",
       " [[['    Com base na atual área constatada será lançado o IPTU 2021 (Imposto Predial e Territorial Urbano), nos termos da Lei nº 2.239/80. Em caso de discordância, os dados apurados poderão ser contestados no prazo de 20 dias do recebimento desta correspondência. Para tanto, devem ser apresentados os seguintes documentos:',\n",
       "    '1-Requerimento preenchido e assinado pelo contruinte responsável ou por procuração simples;',\n",
       "    '2-Cópia simples do RG e CPF do requerente;',\n",
       "    '3-Cópia deste comunicado;',\n",
       "    '4-Documento de propriedade ou posse do imóvel (Escritura, contrato de compra e venda, recibo etc); 5-Planta aprovada do imóvel assinada pelo profissional responsável ou número do projeto aprovado; 6-Habite-se (se houver).',\n",
       "    '    Os documentos deverão ser enviados pelo e-mail: cadastro@conselheirolafaiete.mg.gov.br e no último caso, protocolados na Prefeitura situada a Rua Coronel Albino, 160, Fonte Grande, CEP 36.405-018, no horário de 12h às 16h.',\n",
       "    '    Esclarecimentos poderão ser obtidos pelos telefones: (31) 3769-2565, (31) 98495-0546 e (31) 98493-5283.',\n",
       "    '    Por oportuno esclarecemos que o lançamento de ofício será considerado apenas para fins fiscais, não ficando dispensado o contribuinte da futura regularização das edificações de acordo com as normas vigentes.',\n",
       "    'Conselheiro Lafaiete - MG, 17 de março de 2021.']]]]"
      ]
     },
     "execution_count": 9,
     "metadata": {},
     "output_type": "execute_result"
    }
   ],
   "source": []
  }
 ],
 "metadata": {
  "interpreter": {
   "hash": "2647ea34e536f865ab67ff9ddee7fd78773d956cec0cab53c79b32cd10da5d83"
  },
  "kernelspec": {
   "display_name": "Python 3.9.6 64-bit",
   "language": "python",
   "name": "python3"
  },
  "language_info": {
   "codemirror_mode": {
    "name": "ipython",
    "version": 3
   },
   "file_extension": ".py",
   "mimetype": "text/x-python",
   "name": "python",
   "nbconvert_exporter": "python",
   "pygments_lexer": "ipython3",
   "version": "3.9.6"
  },
  "orig_nbformat": 4
 },
 "nbformat": 4,
 "nbformat_minor": 2
}
